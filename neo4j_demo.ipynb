{
 "cells": [
  {
   "cell_type": "markdown",
   "metadata": {},
   "source": [
    "## Création d'un script `Python` qui dialogue avec `Neo4j` et exploite la `GDS`."
   ]
  },
  {
   "cell_type": "code",
   "execution_count": 1,
   "metadata": {},
   "outputs": [],
   "source": [
    "import pandas as pd\n",
    "import matplotlib.pyplot as plt\n",
    "from neo4j import GraphDatabase"
   ]
  },
  {
   "cell_type": "markdown",
   "metadata": {},
   "source": [
    "Connexion à la base de données neo4j"
   ]
  },
  {
   "cell_type": "code",
   "execution_count": null,
   "metadata": {},
   "outputs": [],
   "source": [
    "uri = \"neo4j://localhost:7687\"\n",
    "driver = GraphDatabase.driver(uri, auth=(\"neo4j\", \"mdp\"))"
   ]
  },
  {
   "cell_type": "markdown",
   "metadata": {},
   "source": [
    "Fonction qui execute une requête qui affiche le top 5 des clubs selon la valeur marchande de ses joueurs"
   ]
  },
  {
   "cell_type": "code",
   "execution_count": 3,
   "metadata": {},
   "outputs": [],
   "source": [
    "def top_5_clubs_by_market_value(driver):\n",
    "    query = \"\"\"\n",
    "    MATCH (c:Club)<-[:PLAYS_FOR]-(p:Player)\n",
    "    RETURN c.name AS clubName, SUM(p.market_value_in_eur) AS totalMarketValue\n",
    "    ORDER BY totalMarketValue DESC\n",
    "    LIMIT 5\n",
    "    \"\"\"\n",
    "    with driver.session() as session:\n",
    "        result = session.run(query)\n",
    "        data = []\n",
    "        for record in result:\n",
    "            data.append((record[\"clubName\"], record[\"totalMarketValue\"]))\n",
    "        return data"
   ]
  },
  {
   "cell_type": "code",
   "execution_count": null,
   "metadata": {},
   "outputs": [],
   "source": [
    "clubs_data = top_5_clubs_by_market_value(driver)\n",
    "print(\"Top 5 clubs by total market value:\")\n",
    "for club, mv in clubs_data:\n",
    "    print(f\"{club}: {mv} EUR\")"
   ]
  },
  {
   "cell_type": "markdown",
   "metadata": {},
   "source": [
    "Création de la projection `transfers_graph_weighted` (si pas encore créer)"
   ]
  },
  {
   "cell_type": "code",
   "execution_count": 9,
   "metadata": {},
   "outputs": [],
   "source": [
    "with driver.session() as session:  \n",
    "  session.run(\"\"\"CALL gds.graph.project(\n",
    "    'transfers_graph_weighted',\n",
    "    'MATCH (n) WHERE n:Club RETURN id(n) AS id',\n",
    "    'MATCH (c1:Club)<-[init:INITIATED_BY]-(t:Transfer)-[final:FINALIZED_BY]->(c2:Club)\n",
    "    RETURN id(c1) AS source, id(c2) AS target, t.transfer_fee AS weight'\n",
    "  )\"\"\")"
   ]
  },
  {
   "cell_type": "markdown",
   "metadata": {},
   "source": [
    "Fonction qui lance l'algorithme `pageRank` de la `GDS`"
   ]
  },
  {
   "cell_type": "code",
   "execution_count": 10,
   "metadata": {},
   "outputs": [],
   "source": [
    "def run_pagerank(driver):\n",
    "    with driver.session() as session:\n",
    "        session.run(\"\"\"\n",
    "            CALL gds.pageRank.write('transfers_graph_weighted', {\n",
    "                relationshipWeightProperty: 'weight',\n",
    "                writeProperty: 'pagerankWeighted'\n",
    "            })\n",
    "        \"\"\")\n",
    "\n",
    "        result = session.run(\"\"\"\n",
    "            MATCH (c:Club)\n",
    "            // Récupération de la somme de market_value_in_eur via un MATCH optionnel\n",
    "            OPTIONAL MATCH (c)<-[:PLAYS_FOR]-(p:Player)\n",
    "            WITH c, c.pagerankWeighted AS score, SUM(p.market_value_in_eur) AS totalValue\n",
    "            ORDER BY score DESC\n",
    "            LIMIT 5\n",
    "            RETURN c.name AS clubName, score, totalValue\n",
    "        \"\"\")\n",
    "\n",
    "        data = []\n",
    "        for record in result:\n",
    "            data.append({\n",
    "                \"clubName\": record[\"clubName\"],\n",
    "                \"pagerankScore\": record[\"score\"],\n",
    "                \"totalMarketValue\": record[\"totalValue\"] or 0\n",
    "            })\n",
    "\n",
    "    return data"
   ]
  },
  {
   "cell_type": "code",
   "execution_count": null,
   "metadata": {},
   "outputs": [],
   "source": [
    "pagerank_data = run_pagerank(driver)\n",
    "\n",
    "print(\"Top clubs by PageRank Weighted + total market value:\")\n",
    "for row in pagerank_data:\n",
    "    print(f\"{row['clubName']}: PageRank={row['pagerankScore']}, totalValue={row['totalMarketValue']}\")"
   ]
  },
  {
   "cell_type": "markdown",
   "metadata": {},
   "source": [
    "Deux graphiques l’un sous l’autre pour voir si un club “top PageRank” est aussi “top en valeur”, ou pas"
   ]
  },
  {
   "cell_type": "code",
   "execution_count": null,
   "metadata": {},
   "outputs": [],
   "source": [
    "df1 = pd.DataFrame(pagerank_data)  \n",
    "\n",
    "df1 = df1.sort_values(by=\"pagerankScore\", ascending=False)\n",
    "\n",
    "fig, axes = plt.subplots(nrows=2, ncols=1, figsize=(8, 8))\n",
    "\n",
    "axes[0].bar(df1[\"clubName\"], df1[\"pagerankScore\"], color=\"steelblue\")\n",
    "axes[0].set_title(\"Top Clubs - PageRank Score\")\n",
    "axes[0].set_ylabel(\"PageRank\")\n",
    "axes[0].tick_params(axis='x', labelrotation=45)\n",
    "\n",
    "axes[1].bar(df1[\"clubName\"], df1[\"totalMarketValue\"], color=\"darkorange\")\n",
    "axes[1].set_title(\"Top Clubs - Total Market Value\")\n",
    "axes[1].set_ylabel(\"Market Value (EUR)\")\n",
    "axes[1].tick_params(axis='x', labelrotation=45)\n",
    "\n",
    "plt.tight_layout()\n",
    "plt.show()"
   ]
  },
  {
   "cell_type": "markdown",
   "metadata": {},
   "source": [
    "Corrélation entre `PageRank` et `MarketValue`"
   ]
  },
  {
   "cell_type": "code",
   "execution_count": null,
   "metadata": {},
   "outputs": [],
   "source": [
    "df2 = pd.DataFrame(pagerank_data)\n",
    "df2[\"totalMarketValue\"] = df2[\"totalMarketValue\"] / 1_000_000\n",
    "\n",
    "plt.figure(figsize=(8,6))\n",
    "plt.scatter(df2[\"pagerankScore\"], df2[\"totalMarketValue\"], color=\"green\")\n",
    "\n",
    "for i, row in df2.iterrows():\n",
    "    plt.text(row[\"pagerankScore\"], row[\"totalMarketValue\"], row[\"clubName\"],\n",
    "             fontsize=9, ha='left', va='bottom')\n",
    "\n",
    "plt.xlabel(\"PageRank Score\")\n",
    "plt.ylabel(\"Market Value (millions EUR)\")\n",
    "plt.title(\"Club: PageRank vs. Market Value\")\n",
    "plt.show()\n"
   ]
  }
 ],
 "metadata": {
  "kernelspec": {
   "display_name": "iap",
   "language": "python",
   "name": "python3"
  },
  "language_info": {
   "codemirror_mode": {
    "name": "ipython",
    "version": 3
   },
   "file_extension": ".py",
   "mimetype": "text/x-python",
   "name": "python",
   "nbconvert_exporter": "python",
   "pygments_lexer": "ipython3",
   "version": "3.12.8"
  }
 },
 "nbformat": 4,
 "nbformat_minor": 2
}
